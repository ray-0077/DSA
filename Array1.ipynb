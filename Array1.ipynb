{
 "cells": [
  {
   "cell_type": "code",
   "execution_count": 1,
   "metadata": {},
   "outputs": [
    {
     "name": "stdout",
     "output_type": "stream",
     "text": [
      "[2] [2, 7] [2, 7, 5] [7] [7, 5] [5]\n"
     ]
    }
   ],
   "source": [
    "import array as ar\n",
    "arr = ar.array('i',[2,7,5])\n",
    "l = list(arr)\n",
    "s = list()\n",
    "for i in range(len(l)):\n",
    "    for j in range(i,len(l)+1):\n",
    "        p = (l[i:j])\n",
    "        if p not in s and p!=[]:\n",
    "          s.append(p)\n",
    "\n",
    "print(*s)\n"
   ]
  },
  {
   "cell_type": "code",
   "execution_count": null,
   "metadata": {},
   "outputs": [],
   "source": []
  }
 ],
 "metadata": {
  "kernelspec": {
   "display_name": "Python 3",
   "language": "python",
   "name": "python3"
  },
  "language_info": {
   "codemirror_mode": {
    "name": "ipython",
    "version": 3
   },
   "file_extension": ".py",
   "mimetype": "text/x-python",
   "name": "python",
   "nbconvert_exporter": "python",
   "pygments_lexer": "ipython3",
   "version": "3.9.1"
  }
 },
 "nbformat": 4,
 "nbformat_minor": 4
}
